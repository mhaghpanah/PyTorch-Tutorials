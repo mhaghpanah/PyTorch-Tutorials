{
  "nbformat": 4,
  "nbformat_minor": 0,
  "metadata": {
    "colab": {
      "name": "tensor_tutorial.ipynb",
      "provenance": [],
      "toc_visible": true,
      "authorship_tag": "ABX9TyOJhjx7DeqijoBN5Ct0Vk3Y",
      "include_colab_link": true
    },
    "kernelspec": {
      "name": "python3",
      "display_name": "Python 3"
    }
  },
  "cells": [
    {
      "cell_type": "markdown",
      "metadata": {
        "id": "view-in-github",
        "colab_type": "text"
      },
      "source": [
        "<a href=\"https://colab.research.google.com/github/mhaghpanah/PyTorch-Tutorials/blob/main/tensor_tutorial.ipynb\" target=\"_parent\"><img src=\"https://colab.research.google.com/assets/colab-badge.svg\" alt=\"Open In Colab\"/></a>"
      ]
    },
    {
      "cell_type": "markdown",
      "metadata": {
        "id": "BOxUD3vLFhC4"
      },
      "source": [
        "# **Tensor**\r\n"
      ]
    },
    {
      "cell_type": "code",
      "metadata": {
        "id": "57ukWa7ZB7aU"
      },
      "source": [
        "import torch\r\n",
        "import numpy as np"
      ],
      "execution_count": 1,
      "outputs": []
    },
    {
      "cell_type": "markdown",
      "metadata": {
        "id": "yPBCIzPrFm_q"
      },
      "source": [
        "## Tensor Initialization\r\n",
        "\r\n"
      ]
    },
    {
      "cell_type": "markdown",
      "metadata": {
        "id": "PBALZ3kVFsk3"
      },
      "source": [
        "**Directly from data**"
      ]
    },
    {
      "cell_type": "code",
      "metadata": {
        "id": "yNOGG01pCFLj"
      },
      "source": [
        "data = [[1, 2], [3, 4]]\r\n",
        "x_data = torch.tensor(data)"
      ],
      "execution_count": 4,
      "outputs": []
    },
    {
      "cell_type": "markdown",
      "metadata": {
        "id": "y4OhcTvAGqky"
      },
      "source": [
        "**From a NumPy array**"
      ]
    },
    {
      "cell_type": "code",
      "metadata": {
        "id": "rwPtraU9CNGc"
      },
      "source": [
        "np_array = np.array(data)\r\n",
        "x_np = torch.from_numpy(np_array)"
      ],
      "execution_count": 6,
      "outputs": []
    },
    {
      "cell_type": "markdown",
      "metadata": {
        "id": "7tHT8vzUGu9I"
      },
      "source": [
        "**From another tensor:**"
      ]
    },
    {
      "cell_type": "code",
      "metadata": {
        "colab": {
          "base_uri": "https://localhost:8080/"
        },
        "id": "SgZsLUexCsYY",
        "outputId": "f7256c09-1786-4a28-fa04-40ef747a1f0d"
      },
      "source": [
        "x_ones = torch.ones_like(x_data)\r\n",
        "print(f\"Ones Tensor: \\n {x_ones} \\n\")\r\n",
        "\r\n",
        "x_rand = torch.rand_like(x_data, dtype=torch.float)\r\n",
        "print(f\"Random Tensor: \\n {x_rand} \\n\")"
      ],
      "execution_count": 9,
      "outputs": [
        {
          "output_type": "stream",
          "text": [
            "Ones Tensor: \n",
            " tensor([[1, 1],\n",
            "        [1, 1]]) \n",
            "\n",
            "Random Tensor: \n",
            " tensor([[0.6692, 0.3478],\n",
            "        [0.5983, 0.5292]]) \n",
            "\n"
          ],
          "name": "stdout"
        }
      ]
    },
    {
      "cell_type": "markdown",
      "metadata": {
        "id": "Uj5pts9oG4BI"
      },
      "source": [
        "**With random or constant values:**"
      ]
    },
    {
      "cell_type": "code",
      "metadata": {
        "colab": {
          "base_uri": "https://localhost:8080/"
        },
        "id": "-csA_tJjDa8N",
        "outputId": "19c9b81f-b2df-45aa-bf67-45a4f0b98bcf"
      },
      "source": [
        "shape = (2,3,)\r\n",
        "rand_tensor = torch.rand(shape)\r\n",
        "ones_tensor = torch.ones(shape)\r\n",
        "zeros_tensor = torch.zeros(shape)\r\n",
        "\r\n",
        "print(f\"Random Tensor: \\n {rand_tensor} \\n\")\r\n",
        "print(f\"Ones Tensor: \\n {ones_tensor} \\n\")\r\n",
        "print(f\"Zeros Tensor: \\n {zeros_tensor} \\n\")"
      ],
      "execution_count": 12,
      "outputs": [
        {
          "output_type": "stream",
          "text": [
            "Random Tensor: \n",
            " tensor([[0.0611, 0.5220, 0.2314],\n",
            "        [0.8381, 0.8219, 0.4972]]) \n",
            "\n",
            "Ones Tensor: \n",
            " tensor([[1., 1., 1.],\n",
            "        [1., 1., 1.]]) \n",
            "\n",
            "Zeros Tensor: \n",
            " tensor([[0., 0., 0.],\n",
            "        [0., 0., 0.]]) \n",
            "\n"
          ],
          "name": "stdout"
        }
      ]
    },
    {
      "cell_type": "markdown",
      "metadata": {
        "id": "_h7fP9QQHHoD"
      },
      "source": [
        "## Tensor Attributes\r\n",
        "\r\n",
        "```\r\n",
        "# This is formatted as code\r\n",
        "```\r\n",
        "\r\n"
      ]
    },
    {
      "cell_type": "code",
      "metadata": {
        "colab": {
          "base_uri": "https://localhost:8080/"
        },
        "id": "A9Uc_u-2D0ki",
        "outputId": "bb4fe63b-d830-4bf1-c6be-96b0cc2c8605"
      },
      "source": [
        "tensor = torch.rand(3,4)\r\n",
        "\r\n",
        "print(f\"Shape of tensor: {tensor.shape}\")\r\n",
        "print(f\"Datatype of tensor: {tensor.dtype}\")\r\n",
        "print(f\"Device tensor is stored on: {tensor.device}\")"
      ],
      "execution_count": 13,
      "outputs": [
        {
          "output_type": "stream",
          "text": [
            "Shape of tensor: torch.Size([3, 4])\n",
            "Datatype of tensor: torch.float32\n",
            "Device tensor is stored on: cpu\n"
          ],
          "name": "stdout"
        }
      ]
    },
    {
      "cell_type": "markdown",
      "metadata": {
        "id": "TLd-JnUrHM21"
      },
      "source": [
        "## Tensor Operations"
      ]
    },
    {
      "cell_type": "code",
      "metadata": {
        "id": "yhfzCCNVEu95"
      },
      "source": [
        "if torch.cuda.is_available():\r\n",
        "  tensor = tensor.to('cuda')"
      ],
      "execution_count": 15,
      "outputs": []
    },
    {
      "cell_type": "markdown",
      "metadata": {
        "id": "1L3ielUJHR3h"
      },
      "source": [
        "**Standard numpy-like indexing and slicing:**"
      ]
    },
    {
      "cell_type": "code",
      "metadata": {
        "colab": {
          "base_uri": "https://localhost:8080/"
        },
        "id": "NYDjGhcJE4hM",
        "outputId": "ecad69de-4d50-4210-b2e7-8a6a903b1b50"
      },
      "source": [
        "tensor = torch.ones(4, 4)\r\n",
        "tensor[:,1] = 0\r\n",
        "print(tensor)"
      ],
      "execution_count": 17,
      "outputs": [
        {
          "output_type": "stream",
          "text": [
            "tensor([[1., 0., 1., 1.],\n",
            "        [1., 0., 1., 1.],\n",
            "        [1., 0., 1., 1.],\n",
            "        [1., 0., 1., 1.]])\n"
          ],
          "name": "stdout"
        }
      ]
    },
    {
      "cell_type": "markdown",
      "metadata": {
        "id": "GHFkpG0hHbxg"
      },
      "source": [
        "**Joining tensors**"
      ]
    },
    {
      "cell_type": "code",
      "metadata": {
        "colab": {
          "base_uri": "https://localhost:8080/"
        },
        "id": "Dr2SSE6eE-50",
        "outputId": "7e42999b-cf8f-4c98-caf6-5387f981f68c"
      },
      "source": [
        "t1 = torch.cat([tensor, tensor, tensor, tensor, tensor], dim=1)\r\n",
        "print(t1)"
      ],
      "execution_count": 24,
      "outputs": [
        {
          "output_type": "stream",
          "text": [
            "tensor([[1., 0., 1., 1., 1., 0., 1., 1., 1., 0., 1., 1., 1., 0., 1., 1., 1., 0.,\n",
            "         1., 1.],\n",
            "        [1., 0., 1., 1., 1., 0., 1., 1., 1., 0., 1., 1., 1., 0., 1., 1., 1., 0.,\n",
            "         1., 1.],\n",
            "        [1., 0., 1., 1., 1., 0., 1., 1., 1., 0., 1., 1., 1., 0., 1., 1., 1., 0.,\n",
            "         1., 1.],\n",
            "        [1., 0., 1., 1., 1., 0., 1., 1., 1., 0., 1., 1., 1., 0., 1., 1., 1., 0.,\n",
            "         1., 1.]])\n"
          ],
          "name": "stdout"
        }
      ]
    },
    {
      "cell_type": "markdown",
      "metadata": {
        "id": "2ENXbntHHiYU"
      },
      "source": [
        "**Multiplying tensors**"
      ]
    },
    {
      "cell_type": "code",
      "metadata": {
        "colab": {
          "base_uri": "https://localhost:8080/"
        },
        "id": "k5-MRPgIFLDR",
        "outputId": "52e0a436-bcf8-4122-e54c-7d558529e966"
      },
      "source": [
        "print(f\"tensor.mul(tensor) \\n {tensor.mul(tensor)} \\n\")\r\n",
        "print(f\"tensor * tensor \\n {tensor * tensor}\")"
      ],
      "execution_count": 25,
      "outputs": [
        {
          "output_type": "stream",
          "text": [
            "tensor.mul(tensor) \n",
            " tensor([[1., 0., 1., 1.],\n",
            "        [1., 0., 1., 1.],\n",
            "        [1., 0., 1., 1.],\n",
            "        [1., 0., 1., 1.]]) \n",
            "\n",
            "tensor * tensor \n",
            " tensor([[1., 0., 1., 1.],\n",
            "        [1., 0., 1., 1.],\n",
            "        [1., 0., 1., 1.],\n",
            "        [1., 0., 1., 1.]])\n"
          ],
          "name": "stdout"
        }
      ]
    },
    {
      "cell_type": "code",
      "metadata": {
        "colab": {
          "base_uri": "https://localhost:8080/"
        },
        "id": "QEGBVTB9H26d",
        "outputId": "30c045b0-a822-41d8-b907-4c7f0454708d"
      },
      "source": [
        "print(f\"tensor.matmul(tensor.T) \\n {tensor.matmul(tensor.T)} \\n\")\r\n",
        "print(f\"tensor @ tensor.T \\n {tensor @ tensor.T}\")"
      ],
      "execution_count": 26,
      "outputs": [
        {
          "output_type": "stream",
          "text": [
            "tensor.matmul(tensor.T) \n",
            " tensor([[3., 3., 3., 3.],\n",
            "        [3., 3., 3., 3.],\n",
            "        [3., 3., 3., 3.],\n",
            "        [3., 3., 3., 3.]]) \n",
            "\n",
            "tensor @ tensor.T tensor([[3., 3., 3., 3.],\n",
            "        [3., 3., 3., 3.],\n",
            "        [3., 3., 3., 3.],\n",
            "        [3., 3., 3., 3.]])\n"
          ],
          "name": "stdout"
        }
      ]
    },
    {
      "cell_type": "markdown",
      "metadata": {
        "id": "d0jRAHnvIYax"
      },
      "source": [
        "**In-place operations**"
      ]
    },
    {
      "cell_type": "code",
      "metadata": {
        "colab": {
          "base_uri": "https://localhost:8080/"
        },
        "id": "WJq-fWoPIZ62",
        "outputId": "07141ea0-9d79-4cb2-e32d-e18ce58269c4"
      },
      "source": [
        "print(tensor, \"\\n\")\r\n",
        "tensor.add_(5)\r\n",
        "print(tensor)"
      ],
      "execution_count": 27,
      "outputs": [
        {
          "output_type": "stream",
          "text": [
            "tensor([[1., 0., 1., 1.],\n",
            "        [1., 0., 1., 1.],\n",
            "        [1., 0., 1., 1.],\n",
            "        [1., 0., 1., 1.]]) \n",
            "\n",
            "tensor([[6., 5., 6., 6.],\n",
            "        [6., 5., 6., 6.],\n",
            "        [6., 5., 6., 6.],\n",
            "        [6., 5., 6., 6.]])\n"
          ],
          "name": "stdout"
        }
      ]
    },
    {
      "cell_type": "markdown",
      "metadata": {
        "id": "rCq_kgyDIjRi"
      },
      "source": [
        "## Bridge with NumPy"
      ]
    },
    {
      "cell_type": "markdown",
      "metadata": {
        "id": "rTWnq3-pI32G"
      },
      "source": [
        "### Tensor to NumPy array\r\n",
        "\r\n"
      ]
    },
    {
      "cell_type": "code",
      "metadata": {
        "colab": {
          "base_uri": "https://localhost:8080/"
        },
        "id": "yG6U5FdHIgKI",
        "outputId": "3a9a03e0-2cd9-466f-af6c-68ab774f36bf"
      },
      "source": [
        "t = torch.ones(5)\r\n",
        "print(f\"t: {t}\")\r\n",
        "n = t.numpy()\r\n",
        "print(f\"n: {n}\")"
      ],
      "execution_count": 28,
      "outputs": [
        {
          "output_type": "stream",
          "text": [
            "t: tensor([1., 1., 1., 1., 1.])\n",
            "n: [1. 1. 1. 1. 1.]\n"
          ],
          "name": "stdout"
        }
      ]
    },
    {
      "cell_type": "code",
      "metadata": {
        "colab": {
          "base_uri": "https://localhost:8080/"
        },
        "id": "qPHX7hjPJMpW",
        "outputId": "9fd2d166-2797-4955-ccbb-4fe251377050"
      },
      "source": [
        "t.add_(1)\r\n",
        "print(f\"t: {t}\")\r\n",
        "print(f\"n: {n}\")"
      ],
      "execution_count": 29,
      "outputs": [
        {
          "output_type": "stream",
          "text": [
            "t: tensor([2., 2., 2., 2., 2.])\n",
            "n: [2. 2. 2. 2. 2.]\n"
          ],
          "name": "stdout"
        }
      ]
    },
    {
      "cell_type": "markdown",
      "metadata": {
        "id": "nx44u-aBJeLZ"
      },
      "source": [
        "### NumPy array to Tensor"
      ]
    },
    {
      "cell_type": "code",
      "metadata": {
        "id": "t16kSx_aJV__"
      },
      "source": [
        "n = np.ones(5)\r\n",
        "t = torch.from_numpy(n)"
      ],
      "execution_count": 30,
      "outputs": []
    },
    {
      "cell_type": "code",
      "metadata": {
        "colab": {
          "base_uri": "https://localhost:8080/"
        },
        "id": "FhLyG-CcJp8_",
        "outputId": "9a6cdd0d-f4b3-4fb5-adb9-1a805c2050e6"
      },
      "source": [
        "np.add(n, 1, out=n)\r\n",
        "print(f\"t: {t}\")\r\n",
        "print(f\"n: {n}\")"
      ],
      "execution_count": 32,
      "outputs": [
        {
          "output_type": "stream",
          "text": [
            "t: tensor([2., 2., 2., 2., 2.], dtype=torch.float64)\n",
            "n: [2. 2. 2. 2. 2.]\n"
          ],
          "name": "stdout"
        }
      ]
    }
  ]
}