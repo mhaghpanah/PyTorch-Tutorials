{
  "nbformat": 4,
  "nbformat_minor": 0,
  "metadata": {
    "colab": {
      "name": "autograd_tutorial.ipynb",
      "provenance": [],
      "toc_visible": true,
      "authorship_tag": "ABX9TyPJi19hc2LkvWmG/lB7121f",
      "include_colab_link": true
    },
    "kernelspec": {
      "name": "python3",
      "display_name": "Python 3"
    }
  },
  "cells": [
    {
      "cell_type": "markdown",
      "metadata": {
        "id": "view-in-github",
        "colab_type": "text"
      },
      "source": [
        "<a href=\"https://colab.research.google.com/github/mhaghpanah/PyTorch-Tutorials/blob/main/autograd_tutorial.ipynb\" target=\"_parent\"><img src=\"https://colab.research.google.com/assets/colab-badge.svg\" alt=\"Open In Colab\"/></a>"
      ]
    },
    {
      "cell_type": "markdown",
      "metadata": {
        "id": "GTHzdOJpMtxo"
      },
      "source": [
        "# A Gentle Introduction to ``torch.autograd``\r\n"
      ]
    },
    {
      "cell_type": "markdown",
      "metadata": {
        "id": "D-v9jyvRNJLK"
      },
      "source": [
        "## Usage in PyTorch"
      ]
    },
    {
      "cell_type": "code",
      "metadata": {
        "id": "cBN76nWTL0LA"
      },
      "source": [
        "import torch, torchvision\r\n",
        "model = torchvision.models.resnet18(pretrained=True)\r\n",
        "data = torch.rand(1, 3, 64, 64)\r\n",
        "labels = torch.rand(1, 1000)"
      ],
      "execution_count": null,
      "outputs": []
    },
    {
      "cell_type": "code",
      "metadata": {
        "id": "ZDetDT6CN8RH"
      },
      "source": [
        "prediction = model(data)"
      ],
      "execution_count": null,
      "outputs": []
    },
    {
      "cell_type": "code",
      "metadata": {
        "id": "-vT67XkTOib0"
      },
      "source": [
        "loss = (prediction - labels).sum()\r\n",
        "loss.backward()"
      ],
      "execution_count": null,
      "outputs": []
    },
    {
      "cell_type": "code",
      "metadata": {
        "id": "uVK6jGflOqFF"
      },
      "source": [
        "optim = torch.optim.SGD(model.parameters(), lr=1e-2, momentum=0.9)"
      ],
      "execution_count": null,
      "outputs": []
    },
    {
      "cell_type": "code",
      "metadata": {
        "id": "aX0ss49_Ozkq"
      },
      "source": [
        "optim.step()"
      ],
      "execution_count": null,
      "outputs": []
    },
    {
      "cell_type": "markdown",
      "metadata": {
        "id": "0pd4lbXuO30i"
      },
      "source": [
        "## Differentiation in Autograd"
      ]
    },
    {
      "cell_type": "code",
      "metadata": {
        "id": "qrcIbH8BO15c"
      },
      "source": [
        "import torch\r\n",
        "\r\n",
        "a = torch.tensor([2., 3.], requires_grad=True)\r\n",
        "b = torch.tensor([6., 4.], requires_grad=True)"
      ],
      "execution_count": null,
      "outputs": []
    },
    {
      "cell_type": "code",
      "metadata": {
        "id": "Tiy8EQbPPMoE"
      },
      "source": [
        "Q = 3*a**3 - b**2"
      ],
      "execution_count": null,
      "outputs": []
    },
    {
      "cell_type": "code",
      "metadata": {
        "id": "6FFhe0--PQo9"
      },
      "source": [
        "external_grad = torch.tensor([1., 1.])\r\n",
        "Q.backward(gradient=external_grad)"
      ],
      "execution_count": null,
      "outputs": []
    },
    {
      "cell_type": "code",
      "metadata": {
        "colab": {
          "base_uri": "https://localhost:8080/"
        },
        "id": "sDqR57umPajh",
        "outputId": "e0fa6e76-1939-4c2c-9056-51d86eb804cb"
      },
      "source": [
        "print(9*a**2 == a.grad)\r\n",
        "print(-2*b == b.grad)"
      ],
      "execution_count": null,
      "outputs": [
        {
          "output_type": "stream",
          "text": [
            "tensor([True, True])\n",
            "tensor([True, True])\n"
          ],
          "name": "stdout"
        }
      ]
    },
    {
      "cell_type": "markdown",
      "metadata": {
        "id": "Szi-_PRA8o5Z"
      },
      "source": [
        "## Computational Graph"
      ]
    },
    {
      "cell_type": "markdown",
      "metadata": {
        "id": "ooYnbV6282bH"
      },
      "source": [
        "### Exclusion from the DAG"
      ]
    },
    {
      "cell_type": "code",
      "metadata": {
        "colab": {
          "base_uri": "https://localhost:8080/"
        },
        "id": "FuNvdxI-PiYS",
        "outputId": "dc818c42-63b7-40f3-9e34-b56be5eaeb8c"
      },
      "source": [
        "x = torch.rand(5, 5)\r\n",
        "y = torch.rand(5, 5)\r\n",
        "z = torch.rand((5, 5), requires_grad=True)\r\n",
        "\r\n",
        "a = x + y\r\n",
        "print(f\"Does `a` reuire gradients? : {a.requires_grad}\")\r\n",
        "b = x + z\r\n",
        "print(f\"Does `b` reuire gradients? : {b.requires_grad}\")"
      ],
      "execution_count": null,
      "outputs": [
        {
          "output_type": "stream",
          "text": [
            "Does `a` reuire gradients? : False\n",
            "Does `b` reuire gradients? : True\n"
          ],
          "name": "stdout"
        }
      ]
    },
    {
      "cell_type": "code",
      "metadata": {
        "id": "aAb3yeLySlir"
      },
      "source": [
        "from torch import nn, optim\r\n",
        "\r\n",
        "model = torchvision.models.resnet18(pretrained=True)\r\n",
        "\r\n",
        "for param in model.parameters():\r\n",
        "  param.requires_grad = False"
      ],
      "execution_count": null,
      "outputs": []
    },
    {
      "cell_type": "code",
      "metadata": {
        "id": "nk7k1K__Ud1v"
      },
      "source": [
        "model.fc = nn.Linear(512, 10)"
      ],
      "execution_count": null,
      "outputs": []
    },
    {
      "cell_type": "code",
      "metadata": {
        "id": "1HdFVJGLUpSr"
      },
      "source": [
        "optimizer = optim.SGD(model.fc.parameters(), lr=1e-2, momentum=0.9)"
      ],
      "execution_count": null,
      "outputs": []
    }
  ]
}