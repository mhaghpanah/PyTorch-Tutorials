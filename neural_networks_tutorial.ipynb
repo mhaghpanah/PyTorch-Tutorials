{
  "nbformat": 4,
  "nbformat_minor": 0,
  "metadata": {
    "colab": {
      "name": "neural_networks_tutorial.ipynb",
      "provenance": [],
      "toc_visible": true,
      "authorship_tag": "ABX9TyNsklODIYZrD2RQ+Rafcr2K",
      "include_colab_link": true
    },
    "kernelspec": {
      "name": "python3",
      "display_name": "Python 3"
    }
  },
  "cells": [
    {
      "cell_type": "markdown",
      "metadata": {
        "id": "view-in-github",
        "colab_type": "text"
      },
      "source": [
        "<a href=\"https://colab.research.google.com/github/mhaghpanah/PyTorch-Tutorials/blob/main/neural_networks_tutorial.ipynb\" target=\"_parent\"><img src=\"https://colab.research.google.com/assets/colab-badge.svg\" alt=\"Open In Colab\"/></a>"
      ]
    },
    {
      "cell_type": "markdown",
      "metadata": {
        "id": "w0lpq2iW-Nw_"
      },
      "source": [
        "# Neural Networks"
      ]
    },
    {
      "cell_type": "markdown",
      "metadata": {
        "id": "nmE0tGR8-fKb"
      },
      "source": [
        "## Define the network"
      ]
    },
    {
      "cell_type": "code",
      "metadata": {
        "colab": {
          "base_uri": "https://localhost:8080/"
        },
        "id": "MzNuzBXw9_jL",
        "outputId": "78dc1cf4-751d-4193-9c76-6a57b893fb32"
      },
      "source": [
        "import torch\r\n",
        "import torch.nn as nn\r\n",
        "import torch.nn.functional as F\r\n",
        "\r\n",
        "class Net(nn.Module):\r\n",
        "\r\n",
        "  def __init__(self):\r\n",
        "    super(Net, self).__init__()\r\n",
        "    self.conv1 = nn.Conv2d(1, 6, 3)\r\n",
        "    self.conv2 = nn.Conv2d(6, 16, 3)\r\n",
        "\r\n",
        "    self.fc1 = nn.Linear(16 * 6 * 6, 120)\r\n",
        "    self.fc2 = nn.Linear(120, 84)\r\n",
        "    self.fc3 = nn.Linear(84, 10)\r\n",
        "\r\n",
        "  def forward(self, x):\r\n",
        "    x = F.max_pool2d(F.relu(self.conv1(x)), (2, 2))\r\n",
        "    x = F.max_pool2d(F.relu(self.conv2(x)), 2)\r\n",
        "    x = x.view(-1, self.num_flat_features(x))\r\n",
        "    x = F.relu(self.fc1(x))\r\n",
        "    x = F.relu(self.fc2(x))\r\n",
        "    x = self.fc3(x)\r\n",
        "    return x\r\n",
        "  \r\n",
        "  def num_flat_features(self, x):\r\n",
        "    size = x.size()[1:]\r\n",
        "    num_features = 1\r\n",
        "    for s in size:\r\n",
        "      num_features *= s\r\n",
        "    return num_features\r\n",
        "\r\n",
        "\r\n",
        "net = Net()\r\n",
        "print(net)"
      ],
      "execution_count": 1,
      "outputs": [
        {
          "output_type": "stream",
          "text": [
            "Net(\n",
            "  (conv1): Conv2d(1, 6, kernel_size=(3, 3), stride=(1, 1))\n",
            "  (conv2): Conv2d(6, 16, kernel_size=(3, 3), stride=(1, 1))\n",
            "  (fc1): Linear(in_features=576, out_features=120, bias=True)\n",
            "  (fc2): Linear(in_features=120, out_features=84, bias=True)\n",
            "  (fc3): Linear(in_features=84, out_features=10, bias=True)\n",
            ")\n"
          ],
          "name": "stdout"
        }
      ]
    },
    {
      "cell_type": "code",
      "metadata": {
        "colab": {
          "base_uri": "https://localhost:8080/"
        },
        "id": "WWxOxzWYA48J",
        "outputId": "1e598cd6-dcc9-4953-c4e2-6671c4483412"
      },
      "source": [
        "params = list(net.parameters())\r\n",
        "print(len(params))\r\n",
        "print(params[0].size())"
      ],
      "execution_count": 2,
      "outputs": [
        {
          "output_type": "stream",
          "text": [
            "10\n",
            "torch.Size([6, 1, 3, 3])\n"
          ],
          "name": "stdout"
        }
      ]
    },
    {
      "cell_type": "code",
      "metadata": {
        "colab": {
          "base_uri": "https://localhost:8080/"
        },
        "id": "krebVJQtA_p2",
        "outputId": "764edae5-61dd-4839-971a-a7fa67d05ca8"
      },
      "source": [
        "input = torch.rand(1, 1, 32, 32)\r\n",
        "out = net(input)\r\n",
        "print(out)"
      ],
      "execution_count": 3,
      "outputs": [
        {
          "output_type": "stream",
          "text": [
            "tensor([[-0.0362,  0.0408,  0.1321,  0.0630,  0.0535,  0.1188,  0.0433,  0.0813,\n",
            "         -0.0246, -0.0160]], grad_fn=<AddmmBackward>)\n"
          ],
          "name": "stdout"
        }
      ]
    },
    {
      "cell_type": "code",
      "metadata": {
        "id": "m_aNRdp3Bmwl"
      },
      "source": [
        "net.zero_grad()\r\n",
        "out.backward(torch.randn(1, 10))"
      ],
      "execution_count": 4,
      "outputs": []
    },
    {
      "cell_type": "markdown",
      "metadata": {
        "id": "cKqERj3DGsbv"
      },
      "source": [
        "## Loss Function"
      ]
    },
    {
      "cell_type": "code",
      "metadata": {
        "colab": {
          "base_uri": "https://localhost:8080/"
        },
        "id": "S__kxnbhGv1O",
        "outputId": "fe229504-c03e-4f98-dc21-0459f9f3642d"
      },
      "source": [
        "output = net(input)\r\n",
        "target = torch.randn(10)\r\n",
        "target = target.view(1, -1)\r\n",
        "criterion = nn.MSELoss()\r\n",
        "\r\n",
        "loss = criterion(output, target)\r\n",
        "print(loss)"
      ],
      "execution_count": 5,
      "outputs": [
        {
          "output_type": "stream",
          "text": [
            "tensor(0.7679, grad_fn=<MseLossBackward>)\n"
          ],
          "name": "stdout"
        }
      ]
    },
    {
      "cell_type": "code",
      "metadata": {
        "colab": {
          "base_uri": "https://localhost:8080/"
        },
        "id": "pIXMmVT5HdBF",
        "outputId": "31c8781a-5cb0-4891-a924-650fd078c020"
      },
      "source": [
        "print(loss.grad_fn)\r\n",
        "print(loss.grad_fn.next_functions[0][0])\r\n",
        "print(loss.grad_fn.next_functions[0][0].next_functions[0][0])"
      ],
      "execution_count": 6,
      "outputs": [
        {
          "output_type": "stream",
          "text": [
            "<MseLossBackward object at 0x7f3fa3a84ef0>\n",
            "<AddmmBackward object at 0x7f3fa3a84f98>\n",
            "<AccumulateGrad object at 0x7f3fa3a84ef0>\n"
          ],
          "name": "stdout"
        }
      ]
    },
    {
      "cell_type": "markdown",
      "metadata": {
        "id": "IZuvmsnFItax"
      },
      "source": [
        "## Backprop"
      ]
    },
    {
      "cell_type": "code",
      "metadata": {
        "colab": {
          "base_uri": "https://localhost:8080/"
        },
        "id": "krWVyrGzHjhj",
        "outputId": "23ca0bdd-f866-41fc-b571-89745d839fca"
      },
      "source": [
        "net.zero_grad()\r\n",
        "\r\n",
        "print(\"conv1.bias.grad before backward\")\r\n",
        "print(net.conv1.bias.grad)\r\n",
        "\r\n",
        "loss.backward()\r\n",
        "\r\n",
        "print(\"conv1.bias.grad after backward\")\r\n",
        "print(net.conv1.bias.grad)"
      ],
      "execution_count": 7,
      "outputs": [
        {
          "output_type": "stream",
          "text": [
            "conv1.bias.grad before backward\n",
            "tensor([0., 0., 0., 0., 0., 0.])\n",
            "conv1.bias.grad after backward\n",
            "tensor([ 0.0002,  0.0096, -0.0025,  0.0022,  0.0027,  0.0092])\n"
          ],
          "name": "stdout"
        }
      ]
    },
    {
      "cell_type": "markdown",
      "metadata": {
        "id": "eAEfr7SuLOdE"
      },
      "source": [
        "## Update the weights"
      ]
    },
    {
      "cell_type": "code",
      "metadata": {
        "id": "qtbI03oaJD68"
      },
      "source": [
        "learning_rate = 0.01\r\n",
        "for f in net.parameters():\r\n",
        "  f.data.sub_(f.grad.data * learning_rate)"
      ],
      "execution_count": 8,
      "outputs": []
    },
    {
      "cell_type": "code",
      "metadata": {
        "id": "Vlk7ZipFLeDm"
      },
      "source": [
        "import torch.optim as optim\r\n",
        "\r\n",
        "optimizer = optim.SGD(net.parameters(), lr=0.01)\r\n",
        "\r\n",
        "optimizer.zero_grad()\r\n",
        "output = net(input)\r\n",
        "loss = criterion(output, target)\r\n",
        "loss.backward()\r\n",
        "optimizer.step()"
      ],
      "execution_count": 9,
      "outputs": []
    }
  ]
}